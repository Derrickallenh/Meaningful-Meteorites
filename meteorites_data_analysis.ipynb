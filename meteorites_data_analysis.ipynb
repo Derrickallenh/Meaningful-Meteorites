{
 "cells": [
  {
   "cell_type": "markdown",
   "metadata": {},
   "source": [
    "# Meteorites Landing Data Analysis\n",
    "\n",
    "1. Retrive the data by calling NASA api\n",
    "2. Add Country Code, Country Name and City Name\n",
    "3. Save the Meteorites Landing Data to fine \"meteorites_landing_raw_data.csv\" file for the cleaning process"
   ]
  },
  {
   "cell_type": "code",
   "execution_count": null,
   "metadata": {},
   "outputs": [],
   "source": [
    "#Dependencies\n",
    "import csv\n",
    "import requests\n",
    "import pandas as pd\n",
    "import json\n",
    "import os\n",
    "import matplotlib.pyplot as plt"
   ]
  },
  {
   "cell_type": "code",
   "execution_count": null,
   "metadata": {},
   "outputs": [],
   "source": [
    "from meteorites_data_retriever import meteorites_data_retriever\n"
   ]
  },
  {
   "cell_type": "code",
   "execution_count": null,
   "metadata": {},
   "outputs": [],
   "source": [
    "from meteorites_data_cleaner import meteorites_data_cleaner"
   ]
  },
  {
   "cell_type": "markdown",
   "metadata": {},
   "source": [
    "### meteorites data retrieving process"
   ]
  },
  {
   "cell_type": "code",
   "execution_count": null,
   "metadata": {},
   "outputs": [],
   "source": [
    "meteorites_raw_data = meteorites_data_retriever()\n",
    "#meteorites_data.head()\n"
   ]
  },
  {
   "cell_type": "markdown",
   "metadata": {},
   "source": [
    "### meteorites data cleaning process\n",
    "\n",
    "\n"
   ]
  },
  {
   "cell_type": "code",
   "execution_count": null,
   "metadata": {},
   "outputs": [],
   "source": [
    "meteorites_data = meteorites_data_cleaner()\n"
   ]
  },
  {
   "cell_type": "code",
   "execution_count": null,
   "metadata": {},
   "outputs": [],
   "source": [
    "#Read server list from CSV file\n",
    "meteorites_df = pd.read_csv('./Resources/meteorites_cleaned_data.csv')\n",
    "meteorites_df.count()"
   ]
  },
  {
   "cell_type": "markdown",
   "metadata": {},
   "source": [
    "### Plot meteorites fall density by continent_name"
   ]
  },
  {
   "cell_type": "code",
   "execution_count": null,
   "metadata": {},
   "outputs": [],
   "source": [
    "def plot_meteorites_fall_density():\n",
    "    # Generate a pie plot showing the distribution of meteorites fall\n",
    "    met_df = meteorites_df.groupby([\"continent_name\"]).count()\n",
    "    met_df = met_df.reset_index()\n",
    "    #Draw Pie chart\n",
    "    mice_pie = met_df.plot.pie(y='id',labels=met_df['continent_name'], \n",
    "                               figsize=(5,5),autopct='%1.1f%%', title=(\"Meteorites fall Density Index\")) \n",
    "    mice_pie.set_ylabel(\"Continent Name\")"
   ]
  },
  {
   "cell_type": "code",
   "execution_count": null,
   "metadata": {},
   "outputs": [],
   "source": [
    "plot_meteorites_fall_density()"
   ]
  },
  {
   "cell_type": "markdown",
   "metadata": {},
   "source": [
    "### Plot meteorites fall by year"
   ]
  },
  {
   "cell_type": "code",
   "execution_count": null,
   "metadata": {},
   "outputs": [],
   "source": [
    "def plot_meteorites_fall_by_year():\n",
    "    #How many meteorites hit Earth each year?\n",
    "    # Generate a bar plot showing number of data points for each treatment regimen using pandas\n",
    "\n",
    "    meterorite_data = pd.DataFrame(meteorites_df, columns = ['id','years'])\n",
    "\n",
    "    meterorite_data[['year', 'date']] = meterorite_data['years'].str.split(\"-\", n = 1, expand = True)\n",
    "\n",
    "\n",
    "    met_df = meterorite_data.groupby([\"year\"]).count()\n",
    "    met_df.head(100)\n",
    "    met_df = met_df.reset_index()\n",
    "    met_df = met_df[met_df['year'] > '1950']\n",
    "\n",
    "\n",
    "    met_df.plot.bar(x='year', y='id', facecolor=\"red\", alpha=0.75, align=\"center\", figsize=(20,5))\n",
    "    plt.title(\"How many meteorites hit Earth each year\")\n",
    "    plt.xlabel('Drug Regimen')\n",
    "    plt.ylabel('Tumor Volume (mm3)')\n",
    "    plt.tight_layout()\n",
    "    plt.show()"
   ]
  },
  {
   "cell_type": "code",
   "execution_count": null,
   "metadata": {},
   "outputs": [],
   "source": [
    "plot_meteorites_fall_by_year()"
   ]
  },
  {
   "cell_type": "markdown",
   "metadata": {},
   "source": [
    "#"
   ]
  }
 ],
 "metadata": {
  "kernelspec": {
   "display_name": "Python [conda env:PythonData] *",
   "language": "python",
   "name": "conda-env-PythonData-py"
  },
  "language_info": {
   "codemirror_mode": {
    "name": "ipython",
    "version": 3
   },
   "file_extension": ".py",
   "mimetype": "text/x-python",
   "name": "python",
   "nbconvert_exporter": "python",
   "pygments_lexer": "ipython3",
   "version": "3.6.9"
  }
 },
 "nbformat": 4,
 "nbformat_minor": 2
}
